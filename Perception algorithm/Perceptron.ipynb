{
 "cells": [
  {
   "cell_type": "code",
   "execution_count": 2,
   "metadata": {},
   "outputs": [
    {
     "name": "stdout",
     "output_type": "stream",
     "text": [
      "103\n"
     ]
    }
   ],
   "source": [
    "import numpy as np\n",
    "class Perceptron:\n",
    "    def __init__(self,num_inputs=2,weights=[2,1]):\n",
    "        self.num_inputs=num_inputs\n",
    "        self.weights=weights\n",
    "    \n",
    "    def weighted_sum(self,inputs):\n",
    "        weighted_sum=0\n",
    "        weighted_sum=np.matmul(self.weights,inputs)\n",
    "        return weighted_sum\n",
    "\n",
    "cool_perceptron=Perceptron()\n",
    "print(cool_perceptron.weighted_sum([24,55]))\n"
   ]
  },
  {
   "cell_type": "code",
   "execution_count": 17,
   "metadata": {},
   "outputs": [
    {
     "data": {
      "text/plain": [
       "{(16, 27): 1,\n",
       " (12, 8): 1,\n",
       " (19, 41): -1,\n",
       " (7, 22): 1,\n",
       " (41, 16): -1,\n",
       " (8, 14): 1,\n",
       " (21, 46): -1,\n",
       " (6, 31): 1,\n",
       " (15, 7): 1,\n",
       " (6, 19): 1,\n",
       " (49, 22): -1,\n",
       " (42, 32): -1,\n",
       " (27, 29): -1,\n",
       " (27, 25): -1,\n",
       " (29, 45): -1,\n",
       " (37, 19): -1,\n",
       " (4, 26): 1,\n",
       " (33, 16): -1,\n",
       " (13, 49): -1,\n",
       " (14, 37): -1,\n",
       " (28, 50): -1,\n",
       " (33, 15): -1,\n",
       " (25, 30): -1,\n",
       " (20, 7): 1,\n",
       " (10, 34): 1,\n",
       " (5, 23): 1,\n",
       " (29, 44): -1,\n",
       " (35, 7): 1,\n",
       " (39, 39): -1,\n",
       " (48, 45): -1}"
      ]
     },
     "execution_count": 17,
     "metadata": {},
     "output_type": "execute_result"
    }
   ],
   "source": [
    "import random\n",
    "def generate_training_set(num_points):\n",
    "\tx_coordinates = [random.randint(0, 50) for i in range(num_points)]\n",
    "\ty_coordinates = [random.randint(0, 50) for i in range(num_points)]\n",
    "\ttraining_set = dict()\n",
    "\tfor x, y in zip(x_coordinates, y_coordinates):\n",
    "\t\tif x <= 45-y:\n",
    "\t\t\ttraining_set[(x,y)] = 1\n",
    "\t\telif x > 45-y:\n",
    "\t\t\ttraining_set[(x,y)] = -1\n",
    "\treturn training_set\n",
    "\n",
    "generate_training_set(30)"
   ]
  },
  {
   "cell_type": "code",
   "execution_count": 13,
   "metadata": {},
   "outputs": [
    {
     "data": {
      "text/plain": [
       "30"
      ]
     },
     "execution_count": 13,
     "metadata": {},
     "output_type": "execute_result"
    }
   ],
   "source": [
    "np.size(x)"
   ]
  },
  {
   "cell_type": "code",
   "execution_count": null,
   "metadata": {},
   "outputs": [],
   "source": []
  }
 ],
 "metadata": {
  "kernelspec": {
   "display_name": "Python 3",
   "language": "python",
   "name": "python3"
  },
  "language_info": {
   "codemirror_mode": {
    "name": "ipython",
    "version": 3
   },
   "file_extension": ".py",
   "mimetype": "text/x-python",
   "name": "python",
   "nbconvert_exporter": "python",
   "pygments_lexer": "ipython3",
   "version": "3.7.4"
  }
 },
 "nbformat": 4,
 "nbformat_minor": 2
}
